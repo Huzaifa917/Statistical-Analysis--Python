{
 "cells": [
  {
   "cell_type": "code",
   "execution_count": 1,
   "id": "520e9907",
   "metadata": {},
   "outputs": [],
   "source": [
    "#!/usr/bin/env python\n",
    "# coding: utf-8\n",
    "\n",
    "# In[6]:\n",
    "\n",
    "\n",
    "from typing import Dict, List\n",
    "\n",
    "filename = 'transaction.txt'\n",
    "\n",
    "def read_transactions_file(filename: str) -> Dict[str, List[Dict[str, any]]]:\n",
    "    transactions = {}\n",
    "\n",
    "    with open(filename, 'r') as f:\n",
    "        for line in f:\n",
    "            fields = line.strip().split(':')\n",
    "            user_id = fields[0].strip()\n",
    "            transaction_id = fields[1].strip()\n",
    "            description = fields[2].strip()\n",
    "            amount = float(fields[3].strip())\n",
    "            x = float(fields[4].strip())\n",
    "            y = float(fields[5].strip())\n",
    "            is_fraudulent = fields[6].strip().lower() == 'true'\n",
    "\n",
    "            if user_id not in transactions:\n",
    "                transactions[user_id] = []\n",
    "\n",
    "            transaction = {\n",
    "                'transaction_id': transaction_id,\n",
    "                'description': description,\n",
    "                'amount': amount,\n",
    "                'x': x,\n",
    "                'y': y,\n",
    "                'is_fraudulent': is_fraudulent\n",
    "            }\n",
    "\n",
    "            transactions[user_id].append(transaction)\n",
    "\n",
    "    return transactions\n",
    "\n",
    "\n",
    "\n",
    "\n",
    "\n",
    "\n"
   ]
  },
  {
   "cell_type": "code",
   "execution_count": null,
   "id": "ddfd4ad1",
   "metadata": {},
   "outputs": [],
   "source": []
  },
  {
   "cell_type": "code",
   "execution_count": null,
   "id": "7b170b13",
   "metadata": {},
   "outputs": [],
   "source": []
  }
 ],
 "metadata": {
  "kernelspec": {
   "display_name": "Python 3 (ipykernel)",
   "language": "python",
   "name": "python3"
  },
  "language_info": {
   "codemirror_mode": {
    "name": "ipython",
    "version": 3
   },
   "file_extension": ".py",
   "mimetype": "text/x-python",
   "name": "python",
   "nbconvert_exporter": "python",
   "pygments_lexer": "ipython3",
   "version": "3.9.12"
  }
 },
 "nbformat": 4,
 "nbformat_minor": 5
}
