{
 "cells": [
  {
   "cell_type": "code",
   "execution_count": 1,
   "id": "f0b05942",
   "metadata": {
    "scrolled": true
   },
   "outputs": [],
   "source": [
    "import math\n",
    "import statistics\n",
    "\n",
    "def transaction_distance(t1: dict, t2: dict) -> float:\n",
    "        \n",
    "    dx = t1['x'] - t2['x']\n",
    "    dy = t1['y'] - t2['y']\n",
    "    return math.sqrt(dx*dx + dy*dy)\n",
    "    \n",
    "        \n",
    "\n",
    "\n",
    "def user_distance(transactions1: list[dict], transactions2: list[dict]) -> float:\n",
    "    \"\"\"\n",
    "    Computes the distance between two users, defined as the minimum distance between any two of their transactions.\n",
    "    \"\"\"\n",
    "    if not transactions1 or not transactions2:\n",
    "        raise ValueError(\"One or both of the transaction lists is empty.\")\n",
    "    \n",
    "    min_distance = float('inf')\n",
    "    for t1 in transactions1:\n",
    "        for t2 in transactions2:\n",
    "            try:\n",
    "                d = transaction_distance(t1, t2)\n",
    "                if d < min_distance:\n",
    "                    min_distance = d\n",
    "            except ValueError as e:\n",
    "                print(f\"Skipping invalid transaction pair: {e}\")\n",
    "    \n",
    "    if min_distance == float('inf'):\n",
    "        raise ValueError(\"No valid transaction pairs found.\")\n",
    "    \n",
    "    return min_distance\n"
   ]
  },
  {
   "cell_type": "code",
   "execution_count": 7,
   "id": "cce3f28e",
   "metadata": {},
   "outputs": [],
   "source": [
    "\n"
   ]
  },
  {
   "cell_type": "code",
   "execution_count": null,
   "id": "6d5051ef",
   "metadata": {},
   "outputs": [],
   "source": []
  }
 ],
 "metadata": {
  "kernelspec": {
   "display_name": "Python 3 (ipykernel)",
   "language": "python",
   "name": "python3"
  },
  "language_info": {
   "codemirror_mode": {
    "name": "ipython",
    "version": 3
   },
   "file_extension": ".py",
   "mimetype": "text/x-python",
   "name": "python",
   "nbconvert_exporter": "python",
   "pygments_lexer": "ipython3",
   "version": "3.9.12"
  }
 },
 "nbformat": 4,
 "nbformat_minor": 5
}
